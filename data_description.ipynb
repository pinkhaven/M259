{
 "cells": [
  {
   "metadata": {},
   "cell_type": "markdown",
   "source": [
    "# M259 | Machine Learning\n",
    "In this Python Notebook I'm going to write down my thought during this Machine Learning Project\n"
   ],
   "id": "ab4032f7691e8be3"
  },
  {
   "metadata": {
    "jupyter": {
     "is_executing": true
    }
   },
   "cell_type": "code",
   "source": [
    "from ucimlrepo import fetch_ucirepo\n",
    "# Loading the Dataset\n",
    "abalone_dataset = fetch_ucirepo(name=\"Abalone\")\n",
    "# Exporting the Data as Excel Files\n",
    "abalone_dataset.data.features.to_excel('./Data/abalone_attributes.xlsx')\n",
    "abalone_dataset.data.targets.to_excel('./Data/abalone_targets.xlsx')"
   ],
   "id": "83836072d9b2b5d1",
   "outputs": [],
   "execution_count": null
  },
  {
   "metadata": {},
   "cell_type": "markdown",
   "source": [
    "So the first step is to get the Abalone Dataset from [this](https://archive.ics.uci.edu/dataset/1/abalone) Repository.\\\n",
    "I also separate the \"normal\" attributes from my target attribute (the amount of rings) which determines the age of an abalone, into two separate files."
   ],
   "id": "ff58acc2eb856854"
  },
  {
   "metadata": {},
   "cell_type": "code",
   "outputs": [],
   "execution_count": null,
   "source": "",
   "id": "85eb3cee9a3c2ed9"
  }
 ],
 "metadata": {
  "kernelspec": {
   "display_name": "Python 3",
   "language": "python",
   "name": "python3"
  },
  "language_info": {
   "codemirror_mode": {
    "name": "ipython",
    "version": 2
   },
   "file_extension": ".py",
   "mimetype": "text/x-python",
   "name": "python",
   "nbconvert_exporter": "python",
   "pygments_lexer": "ipython2",
   "version": "2.7.6"
  }
 },
 "nbformat": 4,
 "nbformat_minor": 5
}
