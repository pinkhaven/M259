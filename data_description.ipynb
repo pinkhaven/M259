{
 "cells": [
  {
   "metadata": {},
   "cell_type": "markdown",
   "source": [
    "# M259 | Machine Learning | Data Description\n",
    "In this Python Notebook I'm going to write down my thought during the data collecting and preparation phase of this Machine Learning Project\n"
   ],
   "id": "ab4032f7691e8be3"
  },
  {
   "metadata": {},
   "cell_type": "markdown",
   "source": [
    "So the first step is to get the Abalone Dataset from the [UCI Machine Learning Repository](https://archive.ics.uci.edu/dataset/1/abalone).\\\n",
    "I separate the \"normal\" attributes from my target attribute (the amount of rings) in the [data_import.py](data_import.py) file, into two files. Because the \"Rings\" Attribute is the one, which the Model should predict.  \n",
    "\\\n",
    "The next Step is to clean and format the data. In the [cleanup_targets.py](cleanup_targets.py) file, it gets done for the \"Rings\" attribute. \\\n",
    "In the [cleanup_attributes.py](cleanup_attributes.py) file, it's done for all the other attributes. When running the [cleanup_attributes.py](cleanup_attributes.py) file, the Attribute \"Sex\" also gets normalized, to match the other Attributes.\n",
    "This means it first gets transformed from M/F/I to 1/2/3, and as the data turns to numbers, it can also be normalized to match the other attributes, with values between zero and one. "
   ],
   "id": "ff58acc2eb856854"
  },
  {
   "metadata": {},
   "cell_type": "markdown",
   "source": "",
   "id": "f5a7af32392306d0"
  }
 ],
 "metadata": {
  "kernelspec": {
   "display_name": "Python 3",
   "language": "python",
   "name": "python3"
  },
  "language_info": {
   "codemirror_mode": {
    "name": "ipython",
    "version": 2
   },
   "file_extension": ".py",
   "mimetype": "text/x-python",
   "name": "python",
   "nbconvert_exporter": "python",
   "pygments_lexer": "ipython2",
   "version": "2.7.6"
  }
 },
 "nbformat": 4,
 "nbformat_minor": 5
}
