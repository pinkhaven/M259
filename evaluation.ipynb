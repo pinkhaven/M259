{
 "cells": [
  {
   "metadata": {},
   "cell_type": "markdown",
   "source": [
    "# M259 | Machine Learning | Modell Evaluation \n",
    "In this Python Notebook I'm going to write down my thought on the trained Modell of this Machine Learning Project"
   ],
   "id": "e48d48ba0f5ff5c1"
  },
  {
   "metadata": {},
   "cell_type": "markdown",
   "source": [
    "To evaluate a little bit more, I'm going to calculate most important Attributes, and the average deviation from the prediction to the actual value with the [abalone_results.xlsx](Data/abalone_results.xlsx) file. \\\n",
    "The following code was added to the [model.py](model.py), and calculates the deviation in Rings, and then also calculate the deviation in percentage"
   ],
   "id": "a8a200fade262917"
  },
  {
   "metadata": {},
   "cell_type": "code",
   "outputs": [],
   "execution_count": null,
   "source": [
    "# Don't run this Code snippet, it's only a small snippet of the model.py file for showcasing \n",
    "from model import model \n",
    "\n",
    "# Calculate average deviation in rings and percent\n",
    "deviation = model.mean_absolute_error(model.targets_test, model.predictions)\n",
    "deviation_p = deviation / 29 * 100\n",
    "\n",
    "print(\"Deviation in rings: \", deviation)\n",
    "print(\"Deviation in percentage: \", deviation_p)"
   ],
   "id": "2b07bf8c45c47879"
  },
  {
   "metadata": {},
   "cell_type": "markdown",
   "source": [
    "The Console output would look simular to this:\n",
    "\n",
    "Deviation in rings: 1.7809500000000003 \\\n",
    "Deviation in percentage: 6.141206896551725"
   ],
   "id": "f4e8e323426eeaab"
  },
  {
   "metadata": {},
   "cell_type": "markdown",
   "source": "As I said, next to calculating the deviation, I also wanted to know the most important attribute. on Line 55 in the [model.py](model.py) file, you can see that i use integrated methods to read out the most important Attributes. The Importance of the Attributes also gets saved as a Graphic in the [AttributeImportance.png](Data/AttributeImportance.png)",
   "id": "407877eaea6d240f"
  },
  {
   "metadata": {},
   "cell_type": "code",
   "outputs": [],
   "execution_count": null,
   "source": [
    "# Don't run this Code snippet, it's only a small snippet of the model.py file for showcasing \n",
    "from model import model\n",
    "\n",
    "# Extract the important attributes\n",
    "important_attributes = model.feature_importances_\n",
    "# Convert to percent\n",
    "important_attributes = important_attributes * 100\n",
    "\n",
    "# Create a dataframe with the important attributes\n",
    "important_attributes_dataframe = model.pandas.DataFrame({'Feature': model.attributes.columns, 'Importance': important_attributes})\n",
    "\n",
    "# Check the top 5 attributes\n",
    "top_k_attributes = important_attributes_dataframe.head(5)\n",
    "print(top_k_attributes)"
   ],
   "id": "3abe0f74a6a9f29c"
  },
  {
   "metadata": {},
   "cell_type": "markdown",
   "source": [
    "The Console output then looks something like this: \n",
    "\n",
    "Feature   |   Importance \\\n",
    "Shell_weight   |   57.981790 \\\n",
    "Shucked_weight   |   10.343691 \\\n",
    "Viscera_weight   |   6.805001 \\\n",
    "Whole_weight   |   6.198405 \\\n",
    "Diameter   |   6.181823 "
   ],
   "id": "14e4be7ca07fc38f"
  },
  {
   "metadata": {},
   "cell_type": "markdown",
   "source": [
    "In my Opinion training the model was a success, because a deviation rate of around 6% isn't that high. But if you look at the [abalone_results.xlsx](Data/abalone_results.xlsx) file, you see that sometimes the deviation can be quite big from the prediction to the actual value. \\\n",
    "So as this is only a small project, with some basic training of a modell with, I didn't really expect too much out of it, but I was actually surprised. \\\n",
    "To specifically analyse the model you would need more methods of checking, and maybe also use the same Dataset to train another Model and compare."
   ],
   "id": "70de4d457df29645"
  },
  {
   "metadata": {},
   "cell_type": "markdown",
   "source": "",
   "id": "d9abe3751a530807"
  }
 ],
 "metadata": {
  "kernelspec": {
   "display_name": "Python 3",
   "language": "python",
   "name": "python3"
  },
  "language_info": {
   "codemirror_mode": {
    "name": "ipython",
    "version": 2
   },
   "file_extension": ".py",
   "mimetype": "text/x-python",
   "name": "python",
   "nbconvert_exporter": "python",
   "pygments_lexer": "ipython2",
   "version": "2.7.6"
  }
 },
 "nbformat": 4,
 "nbformat_minor": 5
}
