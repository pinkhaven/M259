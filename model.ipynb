{
 "cells": [
  {
   "metadata": {},
   "cell_type": "markdown",
   "source": [
    "# M259 | Machine Learning | Modell Calculations \n",
    "In this Python Notebook I'm going to write down my thought on the Modell Calculations of this Machine Learning Project\n"
   ],
   "id": "e3b4925b2e2a4990"
  },
  {
   "metadata": {},
   "cell_type": "markdown",
   "source": [
    "After a little research on the sklearn algorithms, I realised that the \"Random Forest Regressor\" is the best fit for this Case.\\\n",
    "Random Forest is excellent for both classification and regression tasks, copes well with numerical and also categorical variables, and can handle irrelevant inputs.\\\n",
    "This is why it is one of the most widely used algorithms and also why I'm using it."
   ],
   "id": "c023e1f212941c53"
  },
  {
   "metadata": {},
   "cell_type": "markdown",
   "source": [
    "In the [model.py](model.py) file, I train the Model with the cleaned and processed Datasets. I use 20% for testing in the end, so the other 800 Items are used for training. \\\n",
    "\n",
    "When running the [model.py](model.py) file, after the predictions of the model are calculated, I can find out how accurate the model is. \\\n",
    "First it calculates the deviation in Rings, and then because we know that the max numbers of rings being 29, we can calculate the deviation in percentage.\n"
   ],
   "id": "a50488245e8a1990"
  },
  {
   "metadata": {
    "jupyter": {
     "is_executing": true
    }
   },
   "cell_type": "code",
   "source": [
    "# Don't run this Code snippet, it's only a small snippet of the model.py file for explaining \n",
    "from model import model \n",
    "\n",
    "# Calculate average deviation in rings and percent\n",
    "deviation = model.mean_absolute_error(model.targets_test, model.predictions)\n",
    "deviation_p = deviation / 29 * 100\n",
    "\n",
    "print(\"Deviation in rings: \", deviation)\n",
    "print(\"Deviation in percentage: \", deviation_p)"
   ],
   "id": "8385bdc6f3b1bf42",
   "outputs": [],
   "execution_count": null
  },
  {
   "metadata": {},
   "cell_type": "markdown",
   "source": [
    "The Console output would look simular to this: \n",
    "\n",
    "Deviation in rings:  1.7809500000000003 \\\n",
    "Deviation in percentage:  6.141206896551725"
   ],
   "id": "f96663c3a63637d"
  },
  {
   "metadata": {},
   "cell_type": "markdown",
   "source": [
    "In the [abalone_results.xlsx](abalone_results.xlsx) file, you can see the Predictions listed next to the Actual Values. In my Opinion training the model was a success, because a deviation rate of around 6% isn't that high. But if you look at the result file, you see that sometimes the deviation can be quite big from the prediction to the actual value. \\\n",
    "So as this is only a small project, with some basic training of a modell with 1000 Items for training and testing, I didn't really expect too much out of it, but I was actually surprised. \\\n",
    "To specifically analyse the model you would need more methods of checking."
   ],
   "id": "c2b63cdf3aabf325"
  }
 ],
 "metadata": {
  "kernelspec": {
   "display_name": "Python 3",
   "language": "python",
   "name": "python3"
  },
  "language_info": {
   "codemirror_mode": {
    "name": "ipython",
    "version": 2
   },
   "file_extension": ".py",
   "mimetype": "text/x-python",
   "name": "python",
   "nbconvert_exporter": "python",
   "pygments_lexer": "ipython2",
   "version": "2.7.6"
  }
 },
 "nbformat": 4,
 "nbformat_minor": 5
}
