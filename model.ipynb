{
 "cells": [
  {
   "metadata": {},
   "cell_type": "markdown",
   "source": [
    "# M259 | Machine Learning | Modell Calculations \n",
    "In this Python Notebook I'm going to write down my thought on the Modell Calculations of this Machine Learning Project\n"
   ],
   "id": "e3b4925b2e2a4990"
  },
  {
   "metadata": {},
   "cell_type": "markdown",
   "source": [
    "After a little research on the sklearn algorithms, I realised that the \"Random Forest Regressor\" is the best fit for this Case.\\\n",
    "Random Forest is excellent for both classification and regression tasks, copes well with numerical and also categorical variables, and can handle irrelevant inputs.\\\n",
    "This is why it is one of the most widely used algorithms and also why I'm using it."
   ],
   "id": "c023e1f212941c53"
  },
  {
   "metadata": {},
   "cell_type": "markdown",
   "source": [
    "In the [model.py](model.py) file, I train the Model with the cleaned and processed Datasets. I use 20% for testing in the end, so the other 800 Items are used for training. \n",
    "\n",
    "When running the [model.py](model.py) file, after the predictions of the model are calculated, you can find out how accurate the model is, by looking at the [abalone_results.xlsx](Data/abalone_results.xlsx) sheet.\\\n",
    "When you compare the Predictions with the actual results, you can see that the Model isn't halve that bad. It can have some big deviations, but generally, the deviation is less than one ring."
   ],
   "id": "a50488245e8a1990"
  },
  {
   "metadata": {},
   "cell_type": "markdown",
   "source": "",
   "id": "2c7c3716619be695"
  }
 ],
 "metadata": {
  "kernelspec": {
   "display_name": "Python 3",
   "language": "python",
   "name": "python3"
  },
  "language_info": {
   "codemirror_mode": {
    "name": "ipython",
    "version": 2
   },
   "file_extension": ".py",
   "mimetype": "text/x-python",
   "name": "python",
   "nbconvert_exporter": "python",
   "pygments_lexer": "ipython2",
   "version": "2.7.6"
  }
 },
 "nbformat": 4,
 "nbformat_minor": 5
}
